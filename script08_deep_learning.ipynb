{
  "nbformat": 4,
  "nbformat_minor": 0,
  "metadata": {
    "colab": {
      "provenance": []
    },
    "kernelspec": {
      "name": "python3",
      "display_name": "Python 3"
    },
    "language_info": {
      "name": "python"
    }
  },
  "cells": [
    {
      "cell_type": "markdown",
      "source": [
        "<h1>딥러닝 기초</h1>"
      ],
      "metadata": {
        "id": "OXwEvLrYLLb0"
      }
    },
    {
      "cell_type": "code",
      "execution_count": 1,
      "metadata": {
        "id": "dGS3qI3_LCrd"
      },
      "outputs": [],
      "source": [
        "# 라이브러리\n",
        "import numpy as np\n",
        "import pandas as pd\n",
        "import matplotlib.pyplot as plt\n",
        "from sklearn.model_selection import train_test_split"
      ]
    },
    {
      "cell_type": "code",
      "source": [
        "# 데이터셋\n",
        "from sklearn.datasets import load_diabetes\n",
        "X, y_numeric = load_diabetes(return_X_y=True)\n",
        "# numpy 형태로 y를 배열\n",
        "y = np.array([ 0 if y_numeric[i]<140 else 1 for i in range(len(y_numeric)) ])\n",
        "xtrain, xtest, ytrain, ytest = train_test_split(X,y,test_size=0.4,random_state=42)"
      ],
      "metadata": {
        "id": "k3rtQcw1Lavg"
      },
      "execution_count": 2,
      "outputs": []
    },
    {
      "cell_type": "markdown",
      "source": [
        "# Scikit-learn을 이용한 인공신경망"
      ],
      "metadata": {
        "id": "hy-zDliMNTdh"
      }
    },
    {
      "cell_type": "code",
      "source": [
        "from sklearn.neural_network import MLPClassifier\n",
        "f = MLPClassifier(\n",
        "        hidden_layer_sizes = (10,5),\n",
        "        activation = 'logistic',\n",
        "        solver = 'lbfgs', # for small data set, sgd/adam for large data set\n",
        "        alpha = 0.01, # L2 regularization\n",
        "        batch_size = 'auto',\n",
        "        learning_rate = 'constant',\n",
        "        learning_rate_init = 0.001,\n",
        "        random_state = 0,\n",
        "        max_iter = 10000)"
      ],
      "metadata": {
        "id": "dOEDRqxCMD33"
      },
      "execution_count": 3,
      "outputs": []
    },
    {
      "cell_type": "code",
      "source": [
        "f.fit(xtrain,ytrain)\n",
        "print( f.score(xtrain,ytrain), f.score(xtest,ytest) )"
      ],
      "metadata": {
        "colab": {
          "base_uri": "https://localhost:8080/"
        },
        "id": "QQKQ_sSsMlNi",
        "outputId": "75bd1693-79ff-4e20-bf48-a90b8e9b3d7b"
      },
      "execution_count": 4,
      "outputs": [
        {
          "output_type": "stream",
          "name": "stdout",
          "text": [
            "0.9962264150943396 0.711864406779661\n"
          ]
        }
      ]
    },
    {
      "cell_type": "markdown",
      "source": [
        "# Tensorflow를 이용한 인공신경망"
      ],
      "metadata": {
        "id": "KjOelH4fN1pp"
      }
    },
    {
      "cell_type": "code",
      "source": [
        "# 텐서플로우 라이브러리\n",
        "import tensorflow as tf"
      ],
      "metadata": {
        "id": "VU_d1szfMoeB"
      },
      "execution_count": 5,
      "outputs": []
    },
    {
      "cell_type": "markdown",
      "source": [
        "신경망 모델의 선언"
      ],
      "metadata": {
        "id": "bxtR4VWrRDn1"
      }
    },
    {
      "cell_type": "code",
      "source": [
        "# 인공신경망 모델\n",
        "model = tf.keras.models.Sequential()\n",
        "model.add( tf.keras.layers.Input(shape=(10,)) )     # 입력 변수의 수 10\n",
        "model.add( tf.keras.layers.Dense(10,activation='sigmoid') )\n",
        "model.add( tf.keras.layers.Dense(5,activation='sigmoid') )\n",
        "model.add( tf.keras.layers.Dense(2,activation='softmax'))"
      ],
      "metadata": {
        "id": "af6VmCpUMr86"
      },
      "execution_count": 6,
      "outputs": []
    },
    {
      "cell_type": "code",
      "source": [
        "# 모델 컴파일\n",
        "model.compile(optimizer='adam',\n",
        "              loss='sparse_categorical_crossentropy',\n",
        "              metrics=['accuracy'])"
      ],
      "metadata": {
        "id": "uXNQWxmIMzCx"
      },
      "execution_count": 7,
      "outputs": []
    },
    {
      "cell_type": "markdown",
      "source": [
        "모델 훈련"
      ],
      "metadata": {
        "id": "I1D3CM-iRHOs"
      }
    },
    {
      "cell_type": "code",
      "source": [
        "model.fit(xtrain,ytrain,epochs=5) # 최초 ５번"
      ],
      "metadata": {
        "colab": {
          "base_uri": "https://localhost:8080/"
        },
        "id": "dbyTy21aPIG_",
        "outputId": "fcbeae2a-356b-4801-aac7-a2b177660b9e"
      },
      "execution_count": 8,
      "outputs": [
        {
          "output_type": "stream",
          "name": "stdout",
          "text": [
            "Epoch 1/5\n",
            "9/9 [==============================] - 2s 7ms/step - loss: 0.9480 - accuracy: 0.5094\n",
            "Epoch 2/5\n",
            "9/9 [==============================] - 0s 5ms/step - loss: 0.9156 - accuracy: 0.5094\n",
            "Epoch 3/5\n",
            "9/9 [==============================] - 0s 9ms/step - loss: 0.8833 - accuracy: 0.5094\n",
            "Epoch 4/5\n",
            "9/9 [==============================] - 0s 12ms/step - loss: 0.8564 - accuracy: 0.5094\n",
            "Epoch 5/5\n",
            "9/9 [==============================] - 0s 5ms/step - loss: 0.8289 - accuracy: 0.5094\n"
          ]
        },
        {
          "output_type": "execute_result",
          "data": {
            "text/plain": [
              "<keras.callbacks.History at 0x78d2020d5e10>"
            ]
          },
          "metadata": {},
          "execution_count": 8
        }
      ]
    },
    {
      "cell_type": "code",
      "source": [
        "model.fit(xtrain,ytrain,epochs=1000) # 추가 1000 번"
      ],
      "metadata": {
        "id": "wTeMx-asPQJK"
      },
      "execution_count": null,
      "outputs": []
    },
    {
      "cell_type": "code",
      "source": [
        "model.fit(xtrain,ytrain,epochs=5)   # 추가 ５ 번"
      ],
      "metadata": {
        "colab": {
          "base_uri": "https://localhost:8080/"
        },
        "id": "zTzFT1pIPeyz",
        "outputId": "39899587-55a3-45b7-d55f-37b66ac11327"
      },
      "execution_count": 10,
      "outputs": [
        {
          "output_type": "stream",
          "name": "stdout",
          "text": [
            "Epoch 1/5\n",
            "9/9 [==============================] - 0s 3ms/step - loss: 0.5134 - accuracy: 0.7321\n",
            "Epoch 2/5\n",
            "9/9 [==============================] - 0s 3ms/step - loss: 0.5129 - accuracy: 0.7321\n",
            "Epoch 3/5\n",
            "9/9 [==============================] - 0s 4ms/step - loss: 0.5130 - accuracy: 0.7245\n",
            "Epoch 4/5\n",
            "9/9 [==============================] - 0s 3ms/step - loss: 0.5133 - accuracy: 0.7245\n",
            "Epoch 5/5\n",
            "9/9 [==============================] - 0s 4ms/step - loss: 0.5135 - accuracy: 0.7245\n"
          ]
        },
        {
          "output_type": "execute_result",
          "data": {
            "text/plain": [
              "<keras.callbacks.History at 0x78d1fe45b610>"
            ]
          },
          "metadata": {},
          "execution_count": 10
        }
      ]
    },
    {
      "cell_type": "markdown",
      "source": [
        "모델의 모습"
      ],
      "metadata": {
        "id": "vOJbaOvMRhVb"
      }
    },
    {
      "cell_type": "code",
      "source": [
        "model.summary()"
      ],
      "metadata": {
        "colab": {
          "base_uri": "https://localhost:8080/"
        },
        "id": "2ahKL07_RjRo",
        "outputId": "7032bad3-4318-4566-b9ed-ed140d32caa6"
      },
      "execution_count": 11,
      "outputs": [
        {
          "output_type": "stream",
          "name": "stdout",
          "text": [
            "Model: \"sequential\"\n",
            "_________________________________________________________________\n",
            " Layer (type)                Output Shape              Param #   \n",
            "=================================================================\n",
            " dense (Dense)               (None, 10)                110       \n",
            "                                                                 \n",
            " dense_1 (Dense)             (None, 5)                 55        \n",
            "                                                                 \n",
            " dense_2 (Dense)             (None, 2)                 12        \n",
            "                                                                 \n",
            "=================================================================\n",
            "Total params: 177\n",
            "Trainable params: 177\n",
            "Non-trainable params: 0\n",
            "_________________________________________________________________\n"
          ]
        }
      ]
    },
    {
      "cell_type": "code",
      "source": [
        "tf.keras.utils.plot_model(model)"
      ],
      "metadata": {
        "colab": {
          "base_uri": "https://localhost:8080/",
          "height": 369
        },
        "id": "UixcvyMqRoC7",
        "outputId": "b2909efe-df9f-43e1-da94-a6ded046be20"
      },
      "execution_count": 12,
      "outputs": [
        {
          "output_type": "execute_result",
          "data": {
            "image/png": "[encoded data removed]",
            "text/plain": [
              "<IPython.core.display.Image object>"
            ]
          },
          "metadata": {},
          "execution_count": 12
        }
      ]
    },
    {
      "cell_type": "markdown",
      "source": [
        "모델을 이용한 예측"
      ],
      "metadata": {
        "id": "MPILvVybRKUu"
      }
    },
    {
      "cell_type": "code",
      "source": [
        "xtrain[0]"
      ],
      "metadata": {
        "colab": {
          "base_uri": "https://localhost:8080/"
        },
        "id": "qET909HHRQY1",
        "outputId": "7b6396b8-fb7e-4d6a-f3cb-aefd7ef52a55"
      },
      "execution_count": 13,
      "outputs": [
        {
          "output_type": "execute_result",
          "data": {
            "text/plain": [
              "array([-0.01277963, -0.04464164,  0.06061839,  0.05285804,  0.04796534,\n",
              "        0.02937467, -0.01762938,  0.03430886,  0.07020738,  0.00720652])"
            ]
          },
          "metadata": {},
          "execution_count": 13
        }
      ]
    },
    {
      "cell_type": "code",
      "source": [
        "model.predict(xtrain[[0]])"
      ],
      "metadata": {
        "colab": {
          "base_uri": "https://localhost:8080/"
        },
        "id": "g3qGQ9QIQDvE",
        "outputId": "4d23900e-2abe-4692-d4ae-866f9e86e014"
      },
      "execution_count": 14,
      "outputs": [
        {
          "output_type": "stream",
          "name": "stdout",
          "text": [
            "1/1 [==============================] - 0s 117ms/step\n"
          ]
        },
        {
          "output_type": "execute_result",
          "data": {
            "text/plain": [
              "array([[0.08856107, 0.91143894]], dtype=float32)"
            ]
          },
          "metadata": {},
          "execution_count": 14
        }
      ]
    },
    {
      "cell_type": "markdown",
      "source": [
        "모델 평가"
      ],
      "metadata": {
        "id": "ndL2oJioR74i"
      }
    },
    {
      "cell_type": "code",
      "source": [
        "model.evaluate(xtrain,ytrain)"
      ],
      "metadata": {
        "colab": {
          "base_uri": "https://localhost:8080/"
        },
        "id": "8r2-lbcBRXb3",
        "outputId": "f88f97f3-c7cc-4554-d4cd-17b63a6ac007"
      },
      "execution_count": 15,
      "outputs": [
        {
          "output_type": "stream",
          "name": "stdout",
          "text": [
            "9/9 [==============================] - 0s 3ms/step - loss: 0.5132 - accuracy: 0.7245\n"
          ]
        },
        {
          "output_type": "execute_result",
          "data": {
            "text/plain": [
              "[0.5132156014442444, 0.7245283126831055]"
            ]
          },
          "metadata": {},
          "execution_count": 15
        }
      ]
    },
    {
      "cell_type": "code",
      "source": [
        "model.evaluate(xtest,ytest)"
      ],
      "metadata": {
        "colab": {
          "base_uri": "https://localhost:8080/"
        },
        "id": "2Ev66QzyR-xG",
        "outputId": "c6d3a682-790b-4289-feb8-c8c4c9a370a1"
      },
      "execution_count": 16,
      "outputs": [
        {
          "output_type": "stream",
          "name": "stdout",
          "text": [
            "6/6 [==============================] - 0s 3ms/step - loss: 0.4408 - accuracy: 0.7853\n"
          ]
        },
        {
          "output_type": "execute_result",
          "data": {
            "text/plain": [
              "[0.440816730260849, 0.7853107452392578]"
            ]
          },
          "metadata": {},
          "execution_count": 16
        }
      ]
    },
    {
      "cell_type": "markdown",
      "source": [
        "# 연습문제"
      ],
      "metadata": {
        "id": "85QUe_rdSL7m"
      }
    },
    {
      "cell_type": "markdown",
      "source": [
        "1. 위의 딥러닝 모델에서 첫 번째 Dense 계층(노드 수 10)와 두 번째 Dense 계층 (노드 수 5) 사이에 계층 정규화 (Layer Normalization)를 추가하시오. 계층 정규화는\n",
        "```\n",
        " tf.keras.layers.LayerNormalization()\n",
        "```\n",
        "를 추가하여 구현할 수 있다. <br>\n",
        "이 모델을 에폭 1,000번 반복하여 훈련하였을 때, 훈련데이터와 평가데이터의 성능은 어떻게 나타나는가? 이 모델의 파라메터의 수는 모두 몇 개인가? 계층 정규화에서 추가된 파라메터는 몇 개인가? 그 이유를 설명하시오.\n",
        "\n"
      ],
      "metadata": {
        "id": "kkKTpdPbTXHD"
      }
    },
    {
      "cell_type": "code",
      "source": [],
      "metadata": {
        "id": "kZ1z-9PzYex9"
      },
      "execution_count": null,
      "outputs": []
    },
    {
      "cell_type": "markdown",
      "source": [
        "2. 아래와 같이 MNIST 데이터셋을 읽어, 숫자를 판별하는 인공신경망 모델을 텐서플로우를 이용하여 만들고 성능을 평가하시오. 모델의 구조는 자유롭게 결정하고 필요하다면 추가적인 정규화나 규제화 기법을 사용하시오."
      ],
      "metadata": {
        "id": "-rWsmRpEYffq"
      }
    },
    {
      "cell_type": "code",
      "source": [
        "from sklearn.datasets import load_digits\n",
        "X, y = load_digits(return_X_y=True)\n",
        "xtrain, xtest, ytrain, ytest = train_test_split(X,y,test_size=0.33,random_state=1)"
      ],
      "metadata": {
        "id": "b7oTpuPQZQ7Q"
      },
      "execution_count": null,
      "outputs": []
    }
  ]
}